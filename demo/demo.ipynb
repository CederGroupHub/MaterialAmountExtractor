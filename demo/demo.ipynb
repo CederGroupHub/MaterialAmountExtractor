{
    "cells": [
        {
            "cell_type": "code",
            "execution_count": 2,
            "metadata": {"collapsed": true, "pycharm": {"is_executing": false}},
            "outputs": [
                {
                    "name": "stderr",
                    "text": [
                        "/Users/wangzheren/anaconda3/lib/python3.6/site-packages/h5py/__init__.py:36: FutureWarning: Conversion of the second argument of issubdtype from `float` to `np.floating` is deprecated. In future, it will be treated as `np.float64 == np.dtype(float).type`.\n  from ._conv import register_converters as _register_converters\nUsing TensorFlow backend.\n"
                    ],
                    "output_type": "stream",
                },
                {
                    "name": "stdout",
                    "text": ["Operations Extractor v2.4\n", "Done initialization.\n"],
                    "output_type": "stream",
                },
            ],
            "source": ["from MaterialAmountExtractor import get_materials_amounts"],
        },
        {
            "cell_type": "code",
            "execution_count": 3,
            "outputs": [],
            "source": [
                'sentence = "In a typical synthesis of stacked SnS2 nanoplates, 0.35 g of tin tetrachloride pentahydrate (SnCl4·H2O) and 0.4 g of thiourea (Tu) were first dissolved into 25 mL of distilled water under mild stirring."\n',
                'materials_in_sentence = ["tin tetrachloride pentahydrate","SnCl4·H2O","thiourea","Tu","water"]\n',
            ],
            "metadata": {
                "collapsed": false,
                "pycharm": {"name": "#%%\n", "is_executing": false},
            },
        },
        {
            "cell_type": "code",
            "execution_count": 4,
            "outputs": [],
            "source": [
                "m_m = get_materials_amounts.GetMaterialsAmounts(sentence, materials_in_sentence)"
            ],
            "metadata": {
                "collapsed": false,
                "pycharm": {"name": "#%%\n", "is_executing": false},
            },
        },
        {
            "cell_type": "code",
            "execution_count": 5,
            "outputs": [
                {
                    "name": "stdout",
                    "text": [
                        "{'tin tetrachloride pentahydrate': ['0.35', 'g'], 'thiourea': ['0.4', 'g'], 'water': ['25', 'mL']}\n"
                    ],
                    "output_type": "stream",
                }
            ],
            "source": ["print(m_m.final_result())"],
            "metadata": {
                "collapsed": false,
                "pycharm": {"name": "#%%\n", "is_executing": false},
            },
        },
        {
            "cell_type": "code",
            "execution_count": null,
            "outputs": [],
            "source": ["\n"],
            "metadata": {"collapsed": false, "pycharm": {"name": "#%%\n"}},
        },
    ],
    "metadata": {
        "language_info": {
            "codemirror_mode": {"name": "ipython", "version": 2},
            "file_extension": ".py",
            "mimetype": "text/x-python",
            "name": "python",
            "nbconvert_exporter": "python",
            "pygments_lexer": "ipython2",
            "version": "2.7.6",
        },
        "kernelspec": {
            "name": "python3",
            "language": "python",
            "display_name": "Python 3",
        },
        "pycharm": {
            "stem_cell": {
                "cell_type": "raw",
                "source": [],
                "metadata": {"collapsed": false},
            }
        },
    },
    "nbformat": 4,
    "nbformat_minor": 0,
}
